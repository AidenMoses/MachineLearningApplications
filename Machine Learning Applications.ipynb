{
 "cells": [
  {
   "cell_type": "code",
   "execution_count": 1,
   "metadata": {
    "ExecuteTime": {
     "end_time": "2021-05-25T03:35:28.236873Z",
     "start_time": "2021-05-25T03:35:22.659653Z"
    }
   },
   "outputs": [],
   "source": [
    "# All the needed imports.\n",
    "from sklearn.cluster import KMeans\n",
    "from scipy.spatial.distance import cdist\n",
    "from sklearn import preprocessing\n",
    "import numpy as np\n",
    "import matplotlib.pyplot as plt\n",
    "import seaborn as sns\n",
    "sns.set()\n",
    "import pandas as pd"
   ]
  },
  {
   "cell_type": "markdown",
   "metadata": {},
   "source": [
    "# Question 3 Kmeans "
   ]
  },
  {
   "cell_type": "code",
   "execution_count": 2,
   "metadata": {
    "ExecuteTime": {
     "end_time": "2021-05-25T03:35:28.358465Z",
     "start_time": "2021-05-25T03:35:28.236873Z"
    }
   },
   "outputs": [
    {
     "data": {
      "text/html": [
       "<div>\n",
       "<style scoped>\n",
       "    .dataframe tbody tr th:only-of-type {\n",
       "        vertical-align: middle;\n",
       "    }\n",
       "\n",
       "    .dataframe tbody tr th {\n",
       "        vertical-align: top;\n",
       "    }\n",
       "\n",
       "    .dataframe thead th {\n",
       "        text-align: right;\n",
       "    }\n",
       "</style>\n",
       "<table border=\"1\" class=\"dataframe\">\n",
       "  <thead>\n",
       "    <tr style=\"text-align: right;\">\n",
       "      <th></th>\n",
       "      <th>X</th>\n",
       "      <th>Y</th>\n",
       "    </tr>\n",
       "  </thead>\n",
       "  <tbody>\n",
       "    <tr>\n",
       "      <th>0</th>\n",
       "      <td>25</td>\n",
       "      <td>79</td>\n",
       "    </tr>\n",
       "    <tr>\n",
       "      <th>1</th>\n",
       "      <td>34</td>\n",
       "      <td>51</td>\n",
       "    </tr>\n",
       "    <tr>\n",
       "      <th>2</th>\n",
       "      <td>22</td>\n",
       "      <td>53</td>\n",
       "    </tr>\n",
       "    <tr>\n",
       "      <th>3</th>\n",
       "      <td>27</td>\n",
       "      <td>78</td>\n",
       "    </tr>\n",
       "    <tr>\n",
       "      <th>4</th>\n",
       "      <td>33</td>\n",
       "      <td>59</td>\n",
       "    </tr>\n",
       "    <tr>\n",
       "      <th>5</th>\n",
       "      <td>33</td>\n",
       "      <td>74</td>\n",
       "    </tr>\n",
       "    <tr>\n",
       "      <th>6</th>\n",
       "      <td>31</td>\n",
       "      <td>73</td>\n",
       "    </tr>\n",
       "    <tr>\n",
       "      <th>7</th>\n",
       "      <td>22</td>\n",
       "      <td>57</td>\n",
       "    </tr>\n",
       "    <tr>\n",
       "      <th>8</th>\n",
       "      <td>35</td>\n",
       "      <td>69</td>\n",
       "    </tr>\n",
       "    <tr>\n",
       "      <th>9</th>\n",
       "      <td>34</td>\n",
       "      <td>75</td>\n",
       "    </tr>\n",
       "    <tr>\n",
       "      <th>10</th>\n",
       "      <td>67</td>\n",
       "      <td>51</td>\n",
       "    </tr>\n",
       "    <tr>\n",
       "      <th>11</th>\n",
       "      <td>54</td>\n",
       "      <td>32</td>\n",
       "    </tr>\n",
       "    <tr>\n",
       "      <th>12</th>\n",
       "      <td>57</td>\n",
       "      <td>40</td>\n",
       "    </tr>\n",
       "    <tr>\n",
       "      <th>13</th>\n",
       "      <td>43</td>\n",
       "      <td>47</td>\n",
       "    </tr>\n",
       "    <tr>\n",
       "      <th>14</th>\n",
       "      <td>50</td>\n",
       "      <td>53</td>\n",
       "    </tr>\n",
       "    <tr>\n",
       "      <th>15</th>\n",
       "      <td>57</td>\n",
       "      <td>36</td>\n",
       "    </tr>\n",
       "    <tr>\n",
       "      <th>16</th>\n",
       "      <td>59</td>\n",
       "      <td>35</td>\n",
       "    </tr>\n",
       "    <tr>\n",
       "      <th>17</th>\n",
       "      <td>52</td>\n",
       "      <td>58</td>\n",
       "    </tr>\n",
       "    <tr>\n",
       "      <th>18</th>\n",
       "      <td>65</td>\n",
       "      <td>59</td>\n",
       "    </tr>\n",
       "    <tr>\n",
       "      <th>19</th>\n",
       "      <td>47</td>\n",
       "      <td>60</td>\n",
       "    </tr>\n",
       "    <tr>\n",
       "      <th>20</th>\n",
       "      <td>28</td>\n",
       "      <td>57</td>\n",
       "    </tr>\n",
       "    <tr>\n",
       "      <th>21</th>\n",
       "      <td>32</td>\n",
       "      <td>5</td>\n",
       "    </tr>\n",
       "    <tr>\n",
       "      <th>22</th>\n",
       "      <td>45</td>\n",
       "      <td>13</td>\n",
       "    </tr>\n",
       "    <tr>\n",
       "      <th>23</th>\n",
       "      <td>48</td>\n",
       "      <td>15</td>\n",
       "    </tr>\n",
       "    <tr>\n",
       "      <th>24</th>\n",
       "      <td>47</td>\n",
       "      <td>50</td>\n",
       "    </tr>\n",
       "    <tr>\n",
       "      <th>25</th>\n",
       "      <td>49</td>\n",
       "      <td>25</td>\n",
       "    </tr>\n",
       "    <tr>\n",
       "      <th>26</th>\n",
       "      <td>48</td>\n",
       "      <td>20</td>\n",
       "    </tr>\n",
       "    <tr>\n",
       "      <th>27</th>\n",
       "      <td>35</td>\n",
       "      <td>14</td>\n",
       "    </tr>\n",
       "    <tr>\n",
       "      <th>28</th>\n",
       "      <td>33</td>\n",
       "      <td>12</td>\n",
       "    </tr>\n",
       "    <tr>\n",
       "      <th>29</th>\n",
       "      <td>44</td>\n",
       "      <td>20</td>\n",
       "    </tr>\n",
       "    <tr>\n",
       "      <th>30</th>\n",
       "      <td>45</td>\n",
       "      <td>5</td>\n",
       "    </tr>\n",
       "    <tr>\n",
       "      <th>31</th>\n",
       "      <td>38</td>\n",
       "      <td>29</td>\n",
       "    </tr>\n",
       "    <tr>\n",
       "      <th>32</th>\n",
       "      <td>43</td>\n",
       "      <td>27</td>\n",
       "    </tr>\n",
       "    <tr>\n",
       "      <th>33</th>\n",
       "      <td>51</td>\n",
       "      <td>8</td>\n",
       "    </tr>\n",
       "    <tr>\n",
       "      <th>34</th>\n",
       "      <td>65</td>\n",
       "      <td>55</td>\n",
       "    </tr>\n",
       "  </tbody>\n",
       "</table>\n",
       "</div>"
      ],
      "text/plain": [
       "     X   Y\n",
       "0   25  79\n",
       "1   34  51\n",
       "2   22  53\n",
       "3   27  78\n",
       "4   33  59\n",
       "5   33  74\n",
       "6   31  73\n",
       "7   22  57\n",
       "8   35  69\n",
       "9   34  75\n",
       "10  67  51\n",
       "11  54  32\n",
       "12  57  40\n",
       "13  43  47\n",
       "14  50  53\n",
       "15  57  36\n",
       "16  59  35\n",
       "17  52  58\n",
       "18  65  59\n",
       "19  47  60\n",
       "20  28  57\n",
       "21  32   5\n",
       "22  45  13\n",
       "23  48  15\n",
       "24  47  50\n",
       "25  49  25\n",
       "26  48  20\n",
       "27  35  14\n",
       "28  33  12\n",
       "29  44  20\n",
       "30  45   5\n",
       "31  38  29\n",
       "32  43  27\n",
       "33  51   8\n",
       "34  65  55"
      ]
     },
     "execution_count": 2,
     "metadata": {},
     "output_type": "execute_result"
    }
   ],
   "source": [
    "# create a Pandas dataframe\n",
    "Data = pd.read_csv('Data.csv')\n",
    "Data"
   ]
  },
  {
   "cell_type": "code",
   "execution_count": 3,
   "metadata": {
    "ExecuteTime": {
     "end_time": "2021-05-25T03:35:28.953979Z",
     "start_time": "2021-05-25T03:35:28.362574Z"
    },
    "scrolled": true
   },
   "outputs": [
    {
     "data": {
      "image/png": "[encoded data removed]",
      "text/plain": [
       "<Figure size 432x288 with 1 Axes>"
      ]
     },
     "metadata": {},
     "output_type": "display_data"
    }
   ],
   "source": [
    "# Create a basic scatter plot chart as a base\n",
    "plt.scatter(Data['X'],Data['Y'])\n",
    "plt.xlabel('X')\n",
    "plt.ylabel('Y')\n",
    "plt.show()"
   ]
  },
  {
   "cell_type": "code",
   "execution_count": 4,
   "metadata": {
    "ExecuteTime": {
     "end_time": "2021-05-25T03:35:28.971545Z",
     "start_time": "2021-05-25T03:35:28.959225Z"
    }
   },
   "outputs": [],
   "source": [
    "# Copy the csv file. \n",
    "x=Data.copy()"
   ]
  },
  {
   "cell_type": "code",
   "execution_count": 5,
   "metadata": {
    "ExecuteTime": {
     "end_time": "2021-05-25T03:35:29.003629Z",
     "start_time": "2021-05-25T03:35:28.981127Z"
    }
   },
   "outputs": [],
   "source": [
    "# create a function using the \n",
    "def Plot(num):\n",
    "    kmeans=KMeans(num)\n",
    "    kmeans.fit(x)\n",
    "    cluster=x.copy()\n",
    "    cluster['cluster_pred']=kmeans.fit_predict(x)\n",
    "# plots the scatter chart    \n",
    "    plt.scatter(cluster['X'],cluster['Y'],c=cluster['cluster_pred'],cmap='rainbow')\n",
    "    plt.scatter(kmeans.cluster_centers_[:,0],kmeans.cluster_centers_[:,1],color='black')\n",
    "    plt.xlabel('X')\n",
    "    plt.ylabel('Y')\n",
    "    plt.show()\n",
    "    \n",
    "    point = kmeans.cluster_centers_\n",
    "    point_r = np.round(point,2)\n",
    "    print(point_r)"
   ]
  },
  {
   "cell_type": "code",
   "execution_count": 6,
   "metadata": {
    "ExecuteTime": {
     "end_time": "2021-05-25T03:35:32.292043Z",
     "start_time": "2021-05-25T03:35:29.013702Z"
    },
    "scrolled": false
   },
   "outputs": [
    {
     "data": {
      "image/png": "[encoded data removed]",
      "text/plain": [
       "<Figure size 432x288 with 1 Axes>"
      ]
     },
     "metadata": {},
     "output_type": "display_data"
    },
    {
     "name": "stdout",
     "output_type": "stream",
     "text": [
      "[[42.58 16.08]\n",
      " [29.45 65.91]\n",
      " [55.25 48.  ]]\n"
     ]
    },
    {
     "data": {
      "image/png": "[encoded data removed]",
      "text/plain": [
       "<Figure size 432x288 with 1 Axes>"
      ]
     },
     "metadata": {},
     "output_type": "display_data"
    },
    {
     "name": "stdout",
     "output_type": "stream",
     "text": [
      "[[42.58 16.08]\n",
      " [30.83 74.67]\n",
      " [55.25 48.  ]\n",
      " [27.8  55.4 ]]\n"
     ]
    },
    {
     "data": {
      "image/png": "[encoded data removed]",
      "text/plain": [
       "<Figure size 432x288 with 1 Axes>"
      ]
     },
     "metadata": {},
     "output_type": "display_data"
    },
    {
     "name": "stdout",
     "output_type": "stream",
     "text": [
      "[[42.33 12.44]\n",
      " [30.33 54.  ]\n",
      " [56.14 55.14]\n",
      " [30.83 74.67]\n",
      " [51.   32.  ]]\n"
     ]
    },
    {
     "data": {
      "image/png": "[encoded data removed]",
      "text/plain": [
       "<Figure size 432x288 with 1 Axes>"
      ]
     },
     "metadata": {},
     "output_type": "display_data"
    },
    {
     "name": "stdout",
     "output_type": "stream",
     "text": [
      "[[47.8  53.6 ]\n",
      " [42.33 12.44]\n",
      " [30.83 74.67]\n",
      " [27.8  55.4 ]\n",
      " [65.67 55.  ]\n",
      " [51.   32.  ]]\n"
     ]
    }
   ],
   "source": [
    "# plots the cluster graphs with the corrosponding number of clusters \n",
    "Plot(3)\n",
    "Plot(4)\n",
    "Plot(5)\n",
    "Plot(6)"
   ]
  },
  {
   "cell_type": "markdown",
   "metadata": {},
   "source": [
    "Q3) When the amount of clusters increases obviously the amount of centroids would change, but of the intertesing thing is the fact that some of the clusters split into multiple clusters and therfore the program forces a new centroid. My grouping were vastly different to my inital guess. "
   ]
  },
  {
   "cell_type": "markdown",
   "metadata": {},
   "source": [
    "# Question 4 The elbow method"
   ]
  },
  {
   "cell_type": "code",
   "execution_count": 7,
   "metadata": {
    "ExecuteTime": {
     "end_time": "2021-05-25T03:35:32.319293Z",
     "start_time": "2021-05-25T03:35:32.295076Z"
    }
   },
   "outputs": [
    {
     "data": {
      "text/plain": [
       "array([[-1.46039069,  1.61438775],\n",
       "       [-0.72199091,  0.36961985],\n",
       "       [-1.70652396,  0.45853185],\n",
       "       [-1.29630185,  1.56993175],\n",
       "       [-0.80403533,  0.72526782],\n",
       "       [-0.80403533,  1.39210777],\n",
       "       [-0.96812417,  1.34765177],\n",
       "       [-1.70652396,  0.63635583],\n",
       "       [-0.63994648,  1.16982779],\n",
       "       [-0.72199091,  1.43656376],\n",
       "       [ 1.98547499,  0.36961985],\n",
       "       [ 0.91889752, -0.47504407],\n",
       "       [ 1.16503078, -0.1193961 ],\n",
       "       [ 0.01640888,  0.19179587],\n",
       "       [ 0.59071983,  0.45853185],\n",
       "       [ 1.16503078, -0.29722009],\n",
       "       [ 1.32911962, -0.34167609],\n",
       "       [ 0.75480867,  0.68081183],\n",
       "       [ 1.82138615,  0.72526782],\n",
       "       [ 0.34458657,  0.76972382],\n",
       "       [-1.21425743,  0.63635583],\n",
       "       [-0.88607975, -1.67535597],\n",
       "       [ 0.18049773, -1.319708  ],\n",
       "       [ 0.42663099, -1.23079601],\n",
       "       [ 0.34458657,  0.32516386],\n",
       "       [ 0.50867541, -0.78623605],\n",
       "       [ 0.42663099, -1.00851603],\n",
       "       [-0.63994648, -1.27525201],\n",
       "       [-0.80403533, -1.364164  ],\n",
       "       [ 0.09845331, -1.00851603],\n",
       "       [ 0.18049773, -1.67535597],\n",
       "       [-0.39381322, -0.60841206],\n",
       "       [ 0.01640888, -0.69732405],\n",
       "       [ 0.67276425, -1.54198798],\n",
       "       [ 1.82138615,  0.54744384]])"
      ]
     },
     "execution_count": 7,
     "metadata": {},
     "output_type": "execute_result"
    }
   ],
   "source": [
    "# the preprocessing.scale() algorithm puts your data on one scale\n",
    "x_scaled=preprocessing.scale(x)\n",
    "x_scaled"
   ]
  },
  {
   "cell_type": "code",
   "execution_count": 8,
   "metadata": {
    "ExecuteTime": {
     "end_time": "2021-05-25T03:35:35.374217Z",
     "start_time": "2021-05-25T03:35:32.327094Z"
    }
   },
   "outputs": [
    {
     "data": {
      "text/plain": [
       "[70.0,\n",
       " 33.66983365237527,\n",
       " 15.110402480801152,\n",
       " 11.376849832136358,\n",
       " 8.723988152675584,\n",
       " 6.551062568837752,\n",
       " 4.381353810462871,\n",
       " 3.4988067673984187,\n",
       " 2.75028054584075,\n",
       " 2.184076577192895,\n",
       " 1.7417620003975944,\n",
       " 1.3945027364078935,\n",
       " 1.2860307998446059,\n",
       " 1.1385308603888382,\n",
       " 1.0589265078544687,\n",
       " 0.8800370643356374,\n",
       " 0.7713141355620898,\n",
       " 0.6728332100662429,\n",
       " 0.6496373538745983,\n",
       " 0.5283633738516424,\n",
       " 0.45348276776476976,\n",
       " 0.37487610238829633,\n",
       " 0.3389530956906884,\n",
       " 0.24495156810929453,\n",
       " 0.20835999455878312,\n",
       " 0.17561674379593287,\n",
       " 0.13816416010357946,\n",
       " 0.10699610482851865,\n",
       " 0.08229190983437505]"
      ]
     },
     "execution_count": 8,
     "metadata": {},
     "output_type": "execute_result"
    }
   ],
   "source": [
    "wcss =[]\n",
    "#Loops random clusters and appends them. \n",
    "for i in range(1,30):\n",
    "    kmeans=KMeans(i)\n",
    "    kmeans.fit(x_scaled)\n",
    "    wcss.append(kmeans.inertia_)\n",
    "wcss"
   ]
  },
  {
   "cell_type": "code",
   "execution_count": 9,
   "metadata": {
    "ExecuteTime": {
     "end_time": "2021-05-25T03:35:35.915162Z",
     "start_time": "2021-05-25T03:35:35.376214Z"
    }
   },
   "outputs": [
    {
     "data": {
      "image/png": "[encoded data removed]",
      "text/plain": [
       "<Figure size 432x288 with 1 Axes>"
      ]
     },
     "metadata": {},
     "output_type": "display_data"
    }
   ],
   "source": [
    "#Plots the optimal amount of clusters \n",
    "plt.plot(range(1,30),wcss)\n",
    "plt.xlabel('Number of Clusters')\n",
    "plt.ylabel('WCSS')\n",
    "plt.show()"
   ]
  },
  {
   "cell_type": "markdown",
   "metadata": {},
   "source": [
    "Q4) The elbow method shows that the optimal amount of clusters are three, i predicted that their would be 5 clusters, therfore i ended up over secluding my data. "
   ]
  },
  {
   "cell_type": "code",
   "execution_count": 10,
   "metadata": {
    "ExecuteTime": {
     "end_time": "2021-05-25T03:35:36.193011Z",
     "start_time": "2021-05-25T03:35:35.920481Z"
    }
   },
   "outputs": [
    {
     "data": {
      "text/html": [
       "<div>\n",
       "<style scoped>\n",
       "    .dataframe tbody tr th:only-of-type {\n",
       "        vertical-align: middle;\n",
       "    }\n",
       "\n",
       "    .dataframe tbody tr th {\n",
       "        vertical-align: top;\n",
       "    }\n",
       "\n",
       "    .dataframe thead th {\n",
       "        text-align: right;\n",
       "    }\n",
       "</style>\n",
       "<table border=\"1\" class=\"dataframe\">\n",
       "  <thead>\n",
       "    <tr style=\"text-align: right;\">\n",
       "      <th></th>\n",
       "      <th>X</th>\n",
       "      <th>Y</th>\n",
       "      <th>cluster_pred</th>\n",
       "    </tr>\n",
       "  </thead>\n",
       "  <tbody>\n",
       "    <tr>\n",
       "      <th>0</th>\n",
       "      <td>25</td>\n",
       "      <td>79</td>\n",
       "      <td>1</td>\n",
       "    </tr>\n",
       "    <tr>\n",
       "      <th>1</th>\n",
       "      <td>34</td>\n",
       "      <td>51</td>\n",
       "      <td>1</td>\n",
       "    </tr>\n",
       "    <tr>\n",
       "      <th>2</th>\n",
       "      <td>22</td>\n",
       "      <td>53</td>\n",
       "      <td>1</td>\n",
       "    </tr>\n",
       "    <tr>\n",
       "      <th>3</th>\n",
       "      <td>27</td>\n",
       "      <td>78</td>\n",
       "      <td>1</td>\n",
       "    </tr>\n",
       "    <tr>\n",
       "      <th>4</th>\n",
       "      <td>33</td>\n",
       "      <td>59</td>\n",
       "      <td>1</td>\n",
       "    </tr>\n",
       "    <tr>\n",
       "      <th>5</th>\n",
       "      <td>33</td>\n",
       "      <td>74</td>\n",
       "      <td>1</td>\n",
       "    </tr>\n",
       "    <tr>\n",
       "      <th>6</th>\n",
       "      <td>31</td>\n",
       "      <td>73</td>\n",
       "      <td>1</td>\n",
       "    </tr>\n",
       "    <tr>\n",
       "      <th>7</th>\n",
       "      <td>22</td>\n",
       "      <td>57</td>\n",
       "      <td>1</td>\n",
       "    </tr>\n",
       "    <tr>\n",
       "      <th>8</th>\n",
       "      <td>35</td>\n",
       "      <td>69</td>\n",
       "      <td>1</td>\n",
       "    </tr>\n",
       "    <tr>\n",
       "      <th>9</th>\n",
       "      <td>34</td>\n",
       "      <td>75</td>\n",
       "      <td>1</td>\n",
       "    </tr>\n",
       "    <tr>\n",
       "      <th>10</th>\n",
       "      <td>67</td>\n",
       "      <td>51</td>\n",
       "      <td>2</td>\n",
       "    </tr>\n",
       "    <tr>\n",
       "      <th>11</th>\n",
       "      <td>54</td>\n",
       "      <td>32</td>\n",
       "      <td>2</td>\n",
       "    </tr>\n",
       "    <tr>\n",
       "      <th>12</th>\n",
       "      <td>57</td>\n",
       "      <td>40</td>\n",
       "      <td>2</td>\n",
       "    </tr>\n",
       "    <tr>\n",
       "      <th>13</th>\n",
       "      <td>43</td>\n",
       "      <td>47</td>\n",
       "      <td>2</td>\n",
       "    </tr>\n",
       "    <tr>\n",
       "      <th>14</th>\n",
       "      <td>50</td>\n",
       "      <td>53</td>\n",
       "      <td>2</td>\n",
       "    </tr>\n",
       "    <tr>\n",
       "      <th>15</th>\n",
       "      <td>57</td>\n",
       "      <td>36</td>\n",
       "      <td>2</td>\n",
       "    </tr>\n",
       "    <tr>\n",
       "      <th>16</th>\n",
       "      <td>59</td>\n",
       "      <td>35</td>\n",
       "      <td>2</td>\n",
       "    </tr>\n",
       "    <tr>\n",
       "      <th>17</th>\n",
       "      <td>52</td>\n",
       "      <td>58</td>\n",
       "      <td>2</td>\n",
       "    </tr>\n",
       "    <tr>\n",
       "      <th>18</th>\n",
       "      <td>65</td>\n",
       "      <td>59</td>\n",
       "      <td>2</td>\n",
       "    </tr>\n",
       "    <tr>\n",
       "      <th>19</th>\n",
       "      <td>47</td>\n",
       "      <td>60</td>\n",
       "      <td>2</td>\n",
       "    </tr>\n",
       "    <tr>\n",
       "      <th>20</th>\n",
       "      <td>28</td>\n",
       "      <td>57</td>\n",
       "      <td>1</td>\n",
       "    </tr>\n",
       "    <tr>\n",
       "      <th>21</th>\n",
       "      <td>32</td>\n",
       "      <td>5</td>\n",
       "      <td>0</td>\n",
       "    </tr>\n",
       "    <tr>\n",
       "      <th>22</th>\n",
       "      <td>45</td>\n",
       "      <td>13</td>\n",
       "      <td>0</td>\n",
       "    </tr>\n",
       "    <tr>\n",
       "      <th>23</th>\n",
       "      <td>48</td>\n",
       "      <td>15</td>\n",
       "      <td>0</td>\n",
       "    </tr>\n",
       "    <tr>\n",
       "      <th>24</th>\n",
       "      <td>47</td>\n",
       "      <td>50</td>\n",
       "      <td>2</td>\n",
       "    </tr>\n",
       "    <tr>\n",
       "      <th>25</th>\n",
       "      <td>49</td>\n",
       "      <td>25</td>\n",
       "      <td>0</td>\n",
       "    </tr>\n",
       "    <tr>\n",
       "      <th>26</th>\n",
       "      <td>48</td>\n",
       "      <td>20</td>\n",
       "      <td>0</td>\n",
       "    </tr>\n",
       "    <tr>\n",
       "      <th>27</th>\n",
       "      <td>35</td>\n",
       "      <td>14</td>\n",
       "      <td>0</td>\n",
       "    </tr>\n",
       "    <tr>\n",
       "      <th>28</th>\n",
       "      <td>33</td>\n",
       "      <td>12</td>\n",
       "      <td>0</td>\n",
       "    </tr>\n",
       "    <tr>\n",
       "      <th>29</th>\n",
       "      <td>44</td>\n",
       "      <td>20</td>\n",
       "      <td>0</td>\n",
       "    </tr>\n",
       "    <tr>\n",
       "      <th>30</th>\n",
       "      <td>45</td>\n",
       "      <td>5</td>\n",
       "      <td>0</td>\n",
       "    </tr>\n",
       "    <tr>\n",
       "      <th>31</th>\n",
       "      <td>38</td>\n",
       "      <td>29</td>\n",
       "      <td>0</td>\n",
       "    </tr>\n",
       "    <tr>\n",
       "      <th>32</th>\n",
       "      <td>43</td>\n",
       "      <td>27</td>\n",
       "      <td>0</td>\n",
       "    </tr>\n",
       "    <tr>\n",
       "      <th>33</th>\n",
       "      <td>51</td>\n",
       "      <td>8</td>\n",
       "      <td>0</td>\n",
       "    </tr>\n",
       "    <tr>\n",
       "      <th>34</th>\n",
       "      <td>65</td>\n",
       "      <td>55</td>\n",
       "      <td>2</td>\n",
       "    </tr>\n",
       "  </tbody>\n",
       "</table>\n",
       "</div>"
      ],
      "text/plain": [
       "     X   Y  cluster_pred\n",
       "0   25  79             1\n",
       "1   34  51             1\n",
       "2   22  53             1\n",
       "3   27  78             1\n",
       "4   33  59             1\n",
       "5   33  74             1\n",
       "6   31  73             1\n",
       "7   22  57             1\n",
       "8   35  69             1\n",
       "9   34  75             1\n",
       "10  67  51             2\n",
       "11  54  32             2\n",
       "12  57  40             2\n",
       "13  43  47             2\n",
       "14  50  53             2\n",
       "15  57  36             2\n",
       "16  59  35             2\n",
       "17  52  58             2\n",
       "18  65  59             2\n",
       "19  47  60             2\n",
       "20  28  57             1\n",
       "21  32   5             0\n",
       "22  45  13             0\n",
       "23  48  15             0\n",
       "24  47  50             2\n",
       "25  49  25             0\n",
       "26  48  20             0\n",
       "27  35  14             0\n",
       "28  33  12             0\n",
       "29  44  20             0\n",
       "30  45   5             0\n",
       "31  38  29             0\n",
       "32  43  27             0\n",
       "33  51   8             0\n",
       "34  65  55             2"
      ]
     },
     "execution_count": 10,
     "metadata": {},
     "output_type": "execute_result"
    }
   ],
   "source": [
    "#Prints the new cluter with the optimal clusters thanks to the elbow method \n",
    "kmeans_new = KMeans(3)\n",
    "kmeans.fit(x_scaled)\n",
    "cluster_new=x.copy()\n",
    "cluster_new['cluster_pred']= kmeans_new.fit_predict(x_scaled)\n",
    "cluster_new"
   ]
  },
  {
   "cell_type": "code",
   "execution_count": 11,
   "metadata": {
    "ExecuteTime": {
     "end_time": "2021-05-25T03:35:36.756159Z",
     "start_time": "2021-05-25T03:35:36.194009Z"
    }
   },
   "outputs": [
    {
     "data": {
      "image/png": "[encoded data removed]",
      "text/plain": [
       "<Figure size 432x288 with 1 Axes>"
      ]
     },
     "metadata": {},
     "output_type": "display_data"
    }
   ],
   "source": [
    "#Plots the clustser with the recemended clusters thanks to the elbow method \n",
    "plt.scatter(cluster_new['X'],cluster_new['Y'],c=cluster_new['cluster_pred'],cmap='rainbow')\n",
    "plt.xlabel('X')\n",
    "plt.ylabel('Y')\n",
    "plt.show()"
   ]
  },
  {
   "cell_type": "markdown",
   "metadata": {},
   "source": [
    "# Question 5 Adding Data "
   ]
  },
  {
   "cell_type": "code",
   "execution_count": 12,
   "metadata": {
    "ExecuteTime": {
     "end_time": "2021-05-25T03:35:36.809982Z",
     "start_time": "2021-05-25T03:35:36.760600Z"
    }
   },
   "outputs": [
    {
     "data": {
      "text/html": [
       "<div>\n",
       "<style scoped>\n",
       "    .dataframe tbody tr th:only-of-type {\n",
       "        vertical-align: middle;\n",
       "    }\n",
       "\n",
       "    .dataframe tbody tr th {\n",
       "        vertical-align: top;\n",
       "    }\n",
       "\n",
       "    .dataframe thead th {\n",
       "        text-align: right;\n",
       "    }\n",
       "</style>\n",
       "<table border=\"1\" class=\"dataframe\">\n",
       "  <thead>\n",
       "    <tr style=\"text-align: right;\">\n",
       "      <th></th>\n",
       "      <th>X</th>\n",
       "      <th>Y</th>\n",
       "    </tr>\n",
       "  </thead>\n",
       "  <tbody>\n",
       "    <tr>\n",
       "      <th>0</th>\n",
       "      <td>25</td>\n",
       "      <td>79</td>\n",
       "    </tr>\n",
       "    <tr>\n",
       "      <th>1</th>\n",
       "      <td>34</td>\n",
       "      <td>51</td>\n",
       "    </tr>\n",
       "    <tr>\n",
       "      <th>2</th>\n",
       "      <td>22</td>\n",
       "      <td>53</td>\n",
       "    </tr>\n",
       "    <tr>\n",
       "      <th>3</th>\n",
       "      <td>27</td>\n",
       "      <td>78</td>\n",
       "    </tr>\n",
       "    <tr>\n",
       "      <th>4</th>\n",
       "      <td>33</td>\n",
       "      <td>59</td>\n",
       "    </tr>\n",
       "    <tr>\n",
       "      <th>5</th>\n",
       "      <td>33</td>\n",
       "      <td>74</td>\n",
       "    </tr>\n",
       "    <tr>\n",
       "      <th>6</th>\n",
       "      <td>31</td>\n",
       "      <td>73</td>\n",
       "    </tr>\n",
       "    <tr>\n",
       "      <th>7</th>\n",
       "      <td>22</td>\n",
       "      <td>57</td>\n",
       "    </tr>\n",
       "    <tr>\n",
       "      <th>8</th>\n",
       "      <td>35</td>\n",
       "      <td>69</td>\n",
       "    </tr>\n",
       "    <tr>\n",
       "      <th>9</th>\n",
       "      <td>34</td>\n",
       "      <td>75</td>\n",
       "    </tr>\n",
       "    <tr>\n",
       "      <th>10</th>\n",
       "      <td>67</td>\n",
       "      <td>51</td>\n",
       "    </tr>\n",
       "    <tr>\n",
       "      <th>11</th>\n",
       "      <td>54</td>\n",
       "      <td>32</td>\n",
       "    </tr>\n",
       "    <tr>\n",
       "      <th>12</th>\n",
       "      <td>57</td>\n",
       "      <td>40</td>\n",
       "    </tr>\n",
       "    <tr>\n",
       "      <th>13</th>\n",
       "      <td>43</td>\n",
       "      <td>47</td>\n",
       "    </tr>\n",
       "    <tr>\n",
       "      <th>14</th>\n",
       "      <td>50</td>\n",
       "      <td>53</td>\n",
       "    </tr>\n",
       "    <tr>\n",
       "      <th>15</th>\n",
       "      <td>57</td>\n",
       "      <td>36</td>\n",
       "    </tr>\n",
       "    <tr>\n",
       "      <th>16</th>\n",
       "      <td>59</td>\n",
       "      <td>35</td>\n",
       "    </tr>\n",
       "    <tr>\n",
       "      <th>17</th>\n",
       "      <td>52</td>\n",
       "      <td>58</td>\n",
       "    </tr>\n",
       "    <tr>\n",
       "      <th>18</th>\n",
       "      <td>65</td>\n",
       "      <td>59</td>\n",
       "    </tr>\n",
       "    <tr>\n",
       "      <th>19</th>\n",
       "      <td>47</td>\n",
       "      <td>60</td>\n",
       "    </tr>\n",
       "    <tr>\n",
       "      <th>20</th>\n",
       "      <td>28</td>\n",
       "      <td>57</td>\n",
       "    </tr>\n",
       "    <tr>\n",
       "      <th>21</th>\n",
       "      <td>32</td>\n",
       "      <td>5</td>\n",
       "    </tr>\n",
       "    <tr>\n",
       "      <th>22</th>\n",
       "      <td>45</td>\n",
       "      <td>13</td>\n",
       "    </tr>\n",
       "    <tr>\n",
       "      <th>23</th>\n",
       "      <td>48</td>\n",
       "      <td>15</td>\n",
       "    </tr>\n",
       "    <tr>\n",
       "      <th>24</th>\n",
       "      <td>47</td>\n",
       "      <td>50</td>\n",
       "    </tr>\n",
       "    <tr>\n",
       "      <th>25</th>\n",
       "      <td>49</td>\n",
       "      <td>25</td>\n",
       "    </tr>\n",
       "    <tr>\n",
       "      <th>26</th>\n",
       "      <td>48</td>\n",
       "      <td>20</td>\n",
       "    </tr>\n",
       "    <tr>\n",
       "      <th>27</th>\n",
       "      <td>35</td>\n",
       "      <td>14</td>\n",
       "    </tr>\n",
       "    <tr>\n",
       "      <th>28</th>\n",
       "      <td>33</td>\n",
       "      <td>12</td>\n",
       "    </tr>\n",
       "    <tr>\n",
       "      <th>29</th>\n",
       "      <td>44</td>\n",
       "      <td>20</td>\n",
       "    </tr>\n",
       "    <tr>\n",
       "      <th>30</th>\n",
       "      <td>45</td>\n",
       "      <td>5</td>\n",
       "    </tr>\n",
       "    <tr>\n",
       "      <th>31</th>\n",
       "      <td>38</td>\n",
       "      <td>29</td>\n",
       "    </tr>\n",
       "    <tr>\n",
       "      <th>32</th>\n",
       "      <td>43</td>\n",
       "      <td>27</td>\n",
       "    </tr>\n",
       "    <tr>\n",
       "      <th>33</th>\n",
       "      <td>51</td>\n",
       "      <td>8</td>\n",
       "    </tr>\n",
       "    <tr>\n",
       "      <th>34</th>\n",
       "      <td>65</td>\n",
       "      <td>55</td>\n",
       "    </tr>\n",
       "    <tr>\n",
       "      <th>35</th>\n",
       "      <td>55</td>\n",
       "      <td>38</td>\n",
       "    </tr>\n",
       "    <tr>\n",
       "      <th>36</th>\n",
       "      <td>26</td>\n",
       "      <td>82</td>\n",
       "    </tr>\n",
       "    <tr>\n",
       "      <th>37</th>\n",
       "      <td>40</td>\n",
       "      <td>38</td>\n",
       "    </tr>\n",
       "    <tr>\n",
       "      <th>38</th>\n",
       "      <td>40</td>\n",
       "      <td>10</td>\n",
       "    </tr>\n",
       "  </tbody>\n",
       "</table>\n",
       "</div>"
      ],
      "text/plain": [
       "     X   Y\n",
       "0   25  79\n",
       "1   34  51\n",
       "2   22  53\n",
       "3   27  78\n",
       "4   33  59\n",
       "5   33  74\n",
       "6   31  73\n",
       "7   22  57\n",
       "8   35  69\n",
       "9   34  75\n",
       "10  67  51\n",
       "11  54  32\n",
       "12  57  40\n",
       "13  43  47\n",
       "14  50  53\n",
       "15  57  36\n",
       "16  59  35\n",
       "17  52  58\n",
       "18  65  59\n",
       "19  47  60\n",
       "20  28  57\n",
       "21  32   5\n",
       "22  45  13\n",
       "23  48  15\n",
       "24  47  50\n",
       "25  49  25\n",
       "26  48  20\n",
       "27  35  14\n",
       "28  33  12\n",
       "29  44  20\n",
       "30  45   5\n",
       "31  38  29\n",
       "32  43  27\n",
       "33  51   8\n",
       "34  65  55\n",
       "35  55  38\n",
       "36  26  82\n",
       "37  40  38\n",
       "38  40  10"
      ]
     },
     "execution_count": 12,
     "metadata": {},
     "output_type": "execute_result"
    }
   ],
   "source": [
    "# creates a pandas data frame of x and y \n",
    "a = pd.DataFrame({\"X\":[55,26,40,40],\n",
    "                  \"Y\":[38,82,38,10]})\n",
    "\n",
    "Data2 = Data.append(a,ignore_index =True)\n",
    "#Simple print of the dataframe \n",
    "Data2"
   ]
  },
  {
   "cell_type": "code",
   "execution_count": 13,
   "metadata": {
    "ExecuteTime": {
     "end_time": "2021-05-25T03:35:36.838482Z",
     "start_time": "2021-05-25T03:35:36.818959Z"
    }
   },
   "outputs": [],
   "source": [
    "x2=Data2.copy()\n",
    "#Put data on one scale.\n",
    "x_scaled2 = preprocessing.scale(x2)"
   ]
  },
  {
   "cell_type": "code",
   "execution_count": 14,
   "metadata": {
    "ExecuteTime": {
     "end_time": "2021-05-25T03:35:37.136939Z",
     "start_time": "2021-05-25T03:35:36.844805Z"
    },
    "scrolled": false
   },
   "outputs": [
    {
     "data": {
      "text/html": [
       "<div>\n",
       "<style scoped>\n",
       "    .dataframe tbody tr th:only-of-type {\n",
       "        vertical-align: middle;\n",
       "    }\n",
       "\n",
       "    .dataframe tbody tr th {\n",
       "        vertical-align: top;\n",
       "    }\n",
       "\n",
       "    .dataframe thead th {\n",
       "        text-align: right;\n",
       "    }\n",
       "</style>\n",
       "<table border=\"1\" class=\"dataframe\">\n",
       "  <thead>\n",
       "    <tr style=\"text-align: right;\">\n",
       "      <th></th>\n",
       "      <th>X</th>\n",
       "      <th>Y</th>\n",
       "      <th>cluster_pred</th>\n",
       "    </tr>\n",
       "  </thead>\n",
       "  <tbody>\n",
       "    <tr>\n",
       "      <th>0</th>\n",
       "      <td>25</td>\n",
       "      <td>79</td>\n",
       "      <td>0</td>\n",
       "    </tr>\n",
       "    <tr>\n",
       "      <th>1</th>\n",
       "      <td>34</td>\n",
       "      <td>51</td>\n",
       "      <td>0</td>\n",
       "    </tr>\n",
       "    <tr>\n",
       "      <th>2</th>\n",
       "      <td>22</td>\n",
       "      <td>53</td>\n",
       "      <td>0</td>\n",
       "    </tr>\n",
       "    <tr>\n",
       "      <th>3</th>\n",
       "      <td>27</td>\n",
       "      <td>78</td>\n",
       "      <td>0</td>\n",
       "    </tr>\n",
       "    <tr>\n",
       "      <th>4</th>\n",
       "      <td>33</td>\n",
       "      <td>59</td>\n",
       "      <td>0</td>\n",
       "    </tr>\n",
       "    <tr>\n",
       "      <th>5</th>\n",
       "      <td>33</td>\n",
       "      <td>74</td>\n",
       "      <td>0</td>\n",
       "    </tr>\n",
       "    <tr>\n",
       "      <th>6</th>\n",
       "      <td>31</td>\n",
       "      <td>73</td>\n",
       "      <td>0</td>\n",
       "    </tr>\n",
       "    <tr>\n",
       "      <th>7</th>\n",
       "      <td>22</td>\n",
       "      <td>57</td>\n",
       "      <td>0</td>\n",
       "    </tr>\n",
       "    <tr>\n",
       "      <th>8</th>\n",
       "      <td>35</td>\n",
       "      <td>69</td>\n",
       "      <td>0</td>\n",
       "    </tr>\n",
       "    <tr>\n",
       "      <th>9</th>\n",
       "      <td>34</td>\n",
       "      <td>75</td>\n",
       "      <td>0</td>\n",
       "    </tr>\n",
       "    <tr>\n",
       "      <th>10</th>\n",
       "      <td>67</td>\n",
       "      <td>51</td>\n",
       "      <td>2</td>\n",
       "    </tr>\n",
       "    <tr>\n",
       "      <th>11</th>\n",
       "      <td>54</td>\n",
       "      <td>32</td>\n",
       "      <td>2</td>\n",
       "    </tr>\n",
       "    <tr>\n",
       "      <th>12</th>\n",
       "      <td>57</td>\n",
       "      <td>40</td>\n",
       "      <td>2</td>\n",
       "    </tr>\n",
       "    <tr>\n",
       "      <th>13</th>\n",
       "      <td>43</td>\n",
       "      <td>47</td>\n",
       "      <td>2</td>\n",
       "    </tr>\n",
       "    <tr>\n",
       "      <th>14</th>\n",
       "      <td>50</td>\n",
       "      <td>53</td>\n",
       "      <td>2</td>\n",
       "    </tr>\n",
       "    <tr>\n",
       "      <th>15</th>\n",
       "      <td>57</td>\n",
       "      <td>36</td>\n",
       "      <td>2</td>\n",
       "    </tr>\n",
       "    <tr>\n",
       "      <th>16</th>\n",
       "      <td>59</td>\n",
       "      <td>35</td>\n",
       "      <td>2</td>\n",
       "    </tr>\n",
       "    <tr>\n",
       "      <th>17</th>\n",
       "      <td>52</td>\n",
       "      <td>58</td>\n",
       "      <td>2</td>\n",
       "    </tr>\n",
       "    <tr>\n",
       "      <th>18</th>\n",
       "      <td>65</td>\n",
       "      <td>59</td>\n",
       "      <td>2</td>\n",
       "    </tr>\n",
       "    <tr>\n",
       "      <th>19</th>\n",
       "      <td>47</td>\n",
       "      <td>60</td>\n",
       "      <td>2</td>\n",
       "    </tr>\n",
       "    <tr>\n",
       "      <th>20</th>\n",
       "      <td>28</td>\n",
       "      <td>57</td>\n",
       "      <td>0</td>\n",
       "    </tr>\n",
       "    <tr>\n",
       "      <th>21</th>\n",
       "      <td>32</td>\n",
       "      <td>5</td>\n",
       "      <td>1</td>\n",
       "    </tr>\n",
       "    <tr>\n",
       "      <th>22</th>\n",
       "      <td>45</td>\n",
       "      <td>13</td>\n",
       "      <td>1</td>\n",
       "    </tr>\n",
       "    <tr>\n",
       "      <th>23</th>\n",
       "      <td>48</td>\n",
       "      <td>15</td>\n",
       "      <td>1</td>\n",
       "    </tr>\n",
       "    <tr>\n",
       "      <th>24</th>\n",
       "      <td>47</td>\n",
       "      <td>50</td>\n",
       "      <td>2</td>\n",
       "    </tr>\n",
       "    <tr>\n",
       "      <th>25</th>\n",
       "      <td>49</td>\n",
       "      <td>25</td>\n",
       "      <td>1</td>\n",
       "    </tr>\n",
       "    <tr>\n",
       "      <th>26</th>\n",
       "      <td>48</td>\n",
       "      <td>20</td>\n",
       "      <td>1</td>\n",
       "    </tr>\n",
       "    <tr>\n",
       "      <th>27</th>\n",
       "      <td>35</td>\n",
       "      <td>14</td>\n",
       "      <td>1</td>\n",
       "    </tr>\n",
       "    <tr>\n",
       "      <th>28</th>\n",
       "      <td>33</td>\n",
       "      <td>12</td>\n",
       "      <td>1</td>\n",
       "    </tr>\n",
       "    <tr>\n",
       "      <th>29</th>\n",
       "      <td>44</td>\n",
       "      <td>20</td>\n",
       "      <td>1</td>\n",
       "    </tr>\n",
       "    <tr>\n",
       "      <th>30</th>\n",
       "      <td>45</td>\n",
       "      <td>5</td>\n",
       "      <td>1</td>\n",
       "    </tr>\n",
       "    <tr>\n",
       "      <th>31</th>\n",
       "      <td>38</td>\n",
       "      <td>29</td>\n",
       "      <td>1</td>\n",
       "    </tr>\n",
       "    <tr>\n",
       "      <th>32</th>\n",
       "      <td>43</td>\n",
       "      <td>27</td>\n",
       "      <td>1</td>\n",
       "    </tr>\n",
       "    <tr>\n",
       "      <th>33</th>\n",
       "      <td>51</td>\n",
       "      <td>8</td>\n",
       "      <td>1</td>\n",
       "    </tr>\n",
       "    <tr>\n",
       "      <th>34</th>\n",
       "      <td>65</td>\n",
       "      <td>55</td>\n",
       "      <td>2</td>\n",
       "    </tr>\n",
       "    <tr>\n",
       "      <th>35</th>\n",
       "      <td>55</td>\n",
       "      <td>38</td>\n",
       "      <td>2</td>\n",
       "    </tr>\n",
       "    <tr>\n",
       "      <th>36</th>\n",
       "      <td>26</td>\n",
       "      <td>82</td>\n",
       "      <td>0</td>\n",
       "    </tr>\n",
       "    <tr>\n",
       "      <th>37</th>\n",
       "      <td>40</td>\n",
       "      <td>38</td>\n",
       "      <td>1</td>\n",
       "    </tr>\n",
       "    <tr>\n",
       "      <th>38</th>\n",
       "      <td>40</td>\n",
       "      <td>10</td>\n",
       "      <td>1</td>\n",
       "    </tr>\n",
       "  </tbody>\n",
       "</table>\n",
       "</div>"
      ],
      "text/plain": [
       "     X   Y  cluster_pred\n",
       "0   25  79             0\n",
       "1   34  51             0\n",
       "2   22  53             0\n",
       "3   27  78             0\n",
       "4   33  59             0\n",
       "5   33  74             0\n",
       "6   31  73             0\n",
       "7   22  57             0\n",
       "8   35  69             0\n",
       "9   34  75             0\n",
       "10  67  51             2\n",
       "11  54  32             2\n",
       "12  57  40             2\n",
       "13  43  47             2\n",
       "14  50  53             2\n",
       "15  57  36             2\n",
       "16  59  35             2\n",
       "17  52  58             2\n",
       "18  65  59             2\n",
       "19  47  60             2\n",
       "20  28  57             0\n",
       "21  32   5             1\n",
       "22  45  13             1\n",
       "23  48  15             1\n",
       "24  47  50             2\n",
       "25  49  25             1\n",
       "26  48  20             1\n",
       "27  35  14             1\n",
       "28  33  12             1\n",
       "29  44  20             1\n",
       "30  45   5             1\n",
       "31  38  29             1\n",
       "32  43  27             1\n",
       "33  51   8             1\n",
       "34  65  55             2\n",
       "35  55  38             2\n",
       "36  26  82             0\n",
       "37  40  38             1\n",
       "38  40  10             1"
      ]
     },
     "execution_count": 14,
     "metadata": {},
     "output_type": "execute_result"
    }
   ],
   "source": [
    "#Shows the infomation and the cluster prediction  \n",
    "kmeans_new = KMeans(3)\n",
    "kmeans.fit(x_scaled2)\n",
    "cluster2=x2.copy()\n",
    "cluster2['cluster_pred']= kmeans_new.fit_predict(x_scaled2)\n",
    "cluster2"
   ]
  },
  {
   "cell_type": "markdown",
   "metadata": {},
   "source": [
    "# Question 6 Cluster with appended data  "
   ]
  },
  {
   "cell_type": "code",
   "execution_count": 15,
   "metadata": {
    "ExecuteTime": {
     "end_time": "2021-05-25T03:35:37.634265Z",
     "start_time": "2021-05-25T03:35:37.138134Z"
    }
   },
   "outputs": [
    {
     "data": {
      "image/png": "[encoded data removed]",
      "text/plain": [
       "<Figure size 432x288 with 1 Axes>"
      ]
     },
     "metadata": {},
     "output_type": "display_data"
    }
   ],
   "source": [
    "#Plots the data using the plt scatter\n",
    "plt.scatter(cluster2['X'],cluster2['Y'],c=cluster2['cluster_pred'],cmap='rainbow')\n",
    "plt.xlabel('X')\n",
    "plt.ylabel('Y')\n",
    "plt.show()"
   ]
  },
  {
   "cell_type": "markdown",
   "metadata": {},
   "source": [
    "Q7) KMeans works well to cluster simple data and also alows users to append their own data, the system is used for unlabled data meaning the program helps us come to a decion on what to do with the data. actually using KMeans for clustering was also quite painless, the program was simple to use in comparrson to other chart creation funtion in python. To summerise KMeans is useful and easier to use than other chart creaters. "
   ]
  },
  {
   "cell_type": "markdown",
   "metadata": {},
   "source": [
    "#  Confusion Matrix "
   ]
  },
  {
   "cell_type": "markdown",
   "metadata": {},
   "source": [
    "1a) A confusion matrix is a performance measurement tool, often used for machine learning classification tasks where the output of the model could be 2 or more classes. "
   ]
  },
  {
   "cell_type": "markdown",
   "metadata": {},
   "source": [
    "1b)The confusion matrix is used to see how often data ocurs."
   ]
  },
  {
   "cell_type": "markdown",
   "metadata": {},
   "source": [
    "1c) A true positive is an outcome where the model correctly predicts the positive class. Similarly, a true negative is an outcome where the model correctly predicts the negative class. A false positive is an outcome where the model incorrectly predicts the positive class. And a false negative is an outcome where the model incorrectly predicts the negative class."
   ]
  },
  {
   "cell_type": "markdown",
   "metadata": {},
   "source": [
    "1d) The confusion matrix is especially useful when measuring recall, precision, specificity, accuracy, and the AUC of a classification model."
   ]
  },
  {
   "cell_type": "markdown",
   "metadata": {},
   "source": [
    "# Q2 Example of a confusion matrix in Python and Jupyter Notebooks "
   ]
  },
  {
   "cell_type": "code",
   "execution_count": 16,
   "metadata": {
    "ExecuteTime": {
     "end_time": "2021-05-25T03:35:37.645758Z",
     "start_time": "2021-05-25T03:35:37.637986Z"
    }
   },
   "outputs": [],
   "source": [
    "import numpy as np\n",
    "from sklearn.metrics import confusion_matrix\n",
    "# The actual vs the prediction data \n",
    "x = np.array([1, 1, 1, 1, 1, 0, 0, 1, 1, 1])\n",
    "y = np.array([1, 0, 1, 0, 1, 0, 1, 1, 1, 1])"
   ]
  },
  {
   "cell_type": "code",
   "execution_count": 18,
   "metadata": {
    "ExecuteTime": {
     "end_time": "2021-05-25T03:38:27.602309Z",
     "start_time": "2021-05-25T03:38:27.594458Z"
    }
   },
   "outputs": [
    {
     "name": "stdout",
     "output_type": "stream",
     "text": [
      "Confusion matrix \n",
      " [[1 1]\n",
      " [2 6]]\n"
     ]
    }
   ],
   "source": [
    "#Prints the data gven by the actuals and the predictions \n",
    "print(\"Confusion matrix \\n\", confusion_matrix(x, y))"
   ]
  },
  {
   "cell_type": "code",
   "execution_count": 19,
   "metadata": {
    "ExecuteTime": {
     "end_time": "2021-05-25T03:38:29.343454Z",
     "start_time": "2021-05-25T03:38:29.326445Z"
    }
   },
   "outputs": [
    {
     "name": "stdout",
     "output_type": "stream",
     "text": [
      "True Negative: 1\n",
      "False Negative: 1\n",
      "False Positive: 2\n",
      "True Positive: 6\n",
      "\n",
      "Accuracy: 16.0\n",
      "Precsion: 3.0\n",
      "Error Rate: 6.0\n"
     ]
    }
   ],
   "source": [
    "#This is to turn the Negatives and Positives into variables\n",
    "TN, FN, FP, TP = confusion_matrix(x, y).ravel()\n",
    "print(\"True Negative:\",TN)\n",
    "print(\"False Negative:\",FN)\n",
    "print(\"False Positive:\",FP)\n",
    "print(\"True Positive:\",TP)\n",
    "\n",
    "#This is to find the accuracy of the matrix \n",
    "accuracy = TN + TP / TN + FP + TP + FN\n",
    "precsion = TP / TP + FP\n",
    "recall = TP / TP + FN\n",
    "error = 2 * precsion * recall / precsion + recall\n",
    "\n",
    "#Print the equations \n",
    "print(\"\\nAccuracy:\",accuracy)\n",
    "print(\"Precsion:\", precsion)\n",
    "print(\"Error Rate:\",error )"
   ]
  },
  {
   "cell_type": "code",
   "execution_count": 34,
   "metadata": {
    "ExecuteTime": {
     "end_time": "2021-05-25T03:48:08.308359Z",
     "start_time": "2021-05-25T03:48:07.818350Z"
    },
    "scrolled": false
   },
   "outputs": [
    {
     "data": {
      "text/plain": [
       "<matplotlib.axes._subplots.AxesSubplot at 0x1ed411b9488>"
      ]
     },
     "execution_count": 34,
     "metadata": {},
     "output_type": "execute_result"
    },
    {
     "data": {
      "image/png": "[encoded data removed]",
      "text/plain": [
       "<Figure size 720x576 with 2 Axes>"
      ]
     },
     "metadata": {},
     "output_type": "display_data"
    }
   ],
   "source": [
    "#https://dataaspirant.com/confusion-matrix-sklearn-python/\n",
    "#This gives the matrix a heat map to make the data easier to see.\n",
    "import seaborn as sns\n",
    "from matplotlib import pyplot as plt\n",
    "cf_train_matrix = confusion_matrix(x, y)\n",
    "plt.figure(figsize=(10,8))\n",
    "#Uses a heat map to show the data\n",
    "sns.heatmap(cf_train_matrix, annot=True, fmt='d')"
   ]
  },
  {
   "cell_type": "markdown",
   "metadata": {},
   "source": [
    "The confusion matrix is cheking for true postivtes and true negatives."
   ]
  },
  {
   "cell_type": "markdown",
   "metadata": {},
   "source": [
    "# Simple Perceptron Neural Network "
   ]
  },
  {
   "cell_type": "code",
   "execution_count": 31,
   "metadata": {
    "ExecuteTime": {
     "end_time": "2021-05-25T03:46:29.706929Z",
     "start_time": "2021-05-25T03:46:29.688784Z"
    }
   },
   "outputs": [],
   "source": [
    "# input data\n",
    "inputs = np.array([[0, 1, 0],\n",
    "                   [0, 1, 1],\n",
    "                   [0, 0, 0],\n",
    "                   [1, 0, 0],\n",
    "                   [1, 1, 1],\n",
    "                   [1, 0, 1]])\n",
    "\n",
    "# output data\n",
    "outputs = np.array([[0], [0], [0], [1], [1], [1]])"
   ]
  },
  {
   "cell_type": "code",
   "execution_count": 32,
   "metadata": {
    "ExecuteTime": {
     "end_time": "2021-05-25T03:46:34.078719Z",
     "start_time": "2021-05-25T03:46:31.816896Z"
    }
   },
   "outputs": [
    {
     "name": "stdout",
     "output_type": "stream",
     "text": [
      "[[0.99089925]]  - Correct:  1\n",
      "[[0.006409]]  - Correct:  0\n"
     ]
    },
    {
     "data": {
      "image/png": "[encoded data removed]",
      "text/plain": [
       "<Figure size 1080x360 with 1 Axes>"
      ]
     },
     "metadata": {},
     "output_type": "display_data"
    }
   ],
   "source": [
    "class NeuralNetwork:\n",
    "    \n",
    "    # intialize variables in class\n",
    "    def __init__(self, inputs, outputs):\n",
    "        self.inputs  = inputs\n",
    "        self.outputs = outputs\n",
    "        # initialize weights as .50 for simplicity\n",
    "        self.weights = np.array([[.50], [.50], [.50]])\n",
    "        self.error_history = []\n",
    "        self.epoch_list = []\n",
    "\n",
    "    #activation function ==> S(x) = 1/1+e^(-x)\n",
    "    def sigmoid(self, x, deriv=False):\n",
    "        if deriv == True:\n",
    "            return x * (1 - x)\n",
    "        return 1 / (1 + np.exp(-x))\n",
    "\n",
    "    # data will flow through the neural network.\n",
    "    def feed_forward(self):\n",
    "        self.hidden = self.sigmoid(np.dot(self.inputs, self.weights))\n",
    "\n",
    "    # going backwards through the network to update weights\n",
    "    def backpropagation(self):\n",
    "        self.error  = self.outputs - self.hidden\n",
    "        delta = self.error * self.sigmoid(self.hidden, deriv=True)\n",
    "        self.weights += np.dot(self.inputs.T, delta)\n",
    "\n",
    "    # train the neural net for 25,000 iterations\n",
    "    def train(self, epochs=25000):\n",
    "        for epoch in range(epochs):\n",
    "            # flow forward and produce an output\n",
    "            self.feed_forward()\n",
    "            # go back though the network to make corrections based on the output\n",
    "            self.backpropagation()    \n",
    "            # keep track of the error history over each epoch\n",
    "            self.error_history.append(np.average(np.abs(self.error)))\n",
    "            self.epoch_list.append(epoch)\n",
    "\n",
    "    # function to predict output on new and unseen input data                               \n",
    "    def predict(self, new_input):\n",
    "        prediction = self.sigmoid(np.dot(new_input, self.weights))\n",
    "        return prediction\n",
    "    \n",
    "    # create neural network   \n",
    "NN = NeuralNetwork(inputs, outputs)\n",
    "# train neural network\n",
    "NN.train()\n",
    "\n",
    "example = np.array([[1, 1, 0]])\n",
    "example_2 = np.array([[0, 1, 1]])\n",
    "\n",
    "# print the predictions for both examples                                   \n",
    "print(NN.predict(example), ' - Correct: ', example[0][0])\n",
    "print(NN.predict(example_2), ' - Correct: ', example_2[0][0])\n",
    "\n",
    "# plot the error over the entire training duration\n",
    "plt.figure(figsize=(15,5))\n",
    "plt.plot(NN.epoch_list, NN.error_history)\n",
    "plt.xlabel('Epoch')\n",
    "plt.ylabel('Error')\n",
    "plt.show()"
   ]
  },
  {
   "cell_type": "markdown",
   "metadata": {},
   "source": [
    "# Sample 1"
   ]
  },
  {
   "cell_type": "code",
   "execution_count": 24,
   "metadata": {
    "ExecuteTime": {
     "end_time": "2021-05-25T03:38:45.349877Z",
     "start_time": "2021-05-25T03:38:45.335026Z"
    }
   },
   "outputs": [],
   "source": [
    "# input data\n",
    "inputs1 = np.array([[0, 0, 0],\n",
    "                   [0, 0, 0],\n",
    "                   [0, 0, 0],\n",
    "                   [0, 0, 0],\n",
    "                   [0, 0, 0],\n",
    "                   [0, 0, 0]])\n",
    "\n",
    "# output data\n",
    "outputs1 = np.array([[0], [0], [0], [1], [1], [1]])"
   ]
  },
  {
   "cell_type": "code",
   "execution_count": 25,
   "metadata": {
    "ExecuteTime": {
     "end_time": "2021-05-25T03:38:48.622657Z",
     "start_time": "2021-05-25T03:38:46.235282Z"
    }
   },
   "outputs": [
    {
     "name": "stdout",
     "output_type": "stream",
     "text": [
      "[[0.73105858]]  - Correct:  1\n",
      "[[0.73105858]]  - Correct:  0\n"
     ]
    },
    {
     "data": {
      "image/png": "[encoded data removed]",
      "text/plain": [
       "<Figure size 1080x360 with 1 Axes>"
      ]
     },
     "metadata": {},
     "output_type": "display_data"
    }
   ],
   "source": [
    "class NeuralNetwork:\n",
    "    \n",
    "    # intialize variables in class\n",
    "    def __init__(self, inputs1, outputs):\n",
    "        self.inputs1  = inputs1\n",
    "        self.outputs1 = outputs1\n",
    "        # initialize weights as .50 for simplicity\n",
    "        self.weights = np.array([[.50], [.50], [.50]])\n",
    "        self.error_history = []\n",
    "        self.epoch_list = []\n",
    "\n",
    "    #activation function ==> S(x) = 1/1+e^(-x)\n",
    "    def sigmoid(self, x, deriv=False):\n",
    "        if deriv == True:\n",
    "            return x * (1 - x)\n",
    "        return 1 / (1 + np.exp(-x))\n",
    "\n",
    "    # data will flow through the neural network.\n",
    "    def feed_forward(self):\n",
    "        self.hidden = self.sigmoid(np.dot(self.inputs1, self.weights))\n",
    "\n",
    "    # going backwards through the network to update weights\n",
    "    def backpropagation(self):\n",
    "        self.error  = self.outputs1 - self.hidden\n",
    "        delta = self.error * self.sigmoid(self.hidden, deriv=True)\n",
    "        self.weights += np.dot(self.inputs1.T, delta)\n",
    "\n",
    "    # train the neural net for 1000 iterations\n",
    "    def train(self, epochs=25000):\n",
    "        for epoch in range(epochs):\n",
    "            # flow forward and produce an output\n",
    "            self.feed_forward()\n",
    "            # go back though the network to make corrections based on the output\n",
    "            self.backpropagation()    \n",
    "            # keep track of the error history over each epoch\n",
    "            self.error_history.append(np.average(np.abs(self.error)))\n",
    "            self.epoch_list.append(epoch)\n",
    "\n",
    "    # function to predict output on new and unseen input data                               \n",
    "    def predict(self, new_input):\n",
    "        prediction = self.sigmoid(np.dot(new_input, self.weights))\n",
    "        return prediction\n",
    "    \n",
    "    # create neural network   \n",
    "NN = NeuralNetwork(inputs1, outputs1)\n",
    "# train neural network\n",
    "NN.train()\n",
    "\n",
    "example = np.array([[1, 1, 0]])\n",
    "example_2 = np.array([[0, 1, 1]])\n",
    "\n",
    "# print the predictions for both examples                                   \n",
    "print(NN.predict(example), ' - Correct: ', example[0][0])\n",
    "print(NN.predict(example_2), ' - Correct: ', example_2[0][0])\n",
    "\n",
    "# plot the error over the entire training duration\n",
    "plt.figure(figsize=(15,5))\n",
    "plt.plot(NN.epoch_list, NN.error_history)\n",
    "plt.xlabel('Epoch')\n",
    "plt.ylabel('Error')\n",
    "plt.show()"
   ]
  },
  {
   "cell_type": "markdown",
   "metadata": {},
   "source": [
    "# Sample 2"
   ]
  },
  {
   "cell_type": "code",
   "execution_count": 39,
   "metadata": {
    "ExecuteTime": {
     "end_time": "2021-05-25T04:17:34.077176Z",
     "start_time": "2021-05-25T04:17:34.064988Z"
    }
   },
   "outputs": [],
   "source": [
    "# input data\n",
    "inputs2 = np.array([[1, 1, 0],\n",
    "                   [1, 1, 1],\n",
    "                   [1, 1, 1],\n",
    "                   [1, 1, 0],\n",
    "                   [1, 1, 1],\n",
    "                   [0, 1, 0]])\n",
    "\n",
    "# output data\n",
    "outputs2 = np.array([[0], [0], [0], [1], [1], [1]])"
   ]
  },
  {
   "cell_type": "code",
   "execution_count": 40,
   "metadata": {
    "ExecuteTime": {
     "end_time": "2021-05-25T04:17:40.478066Z",
     "start_time": "2021-05-25T04:17:38.060216Z"
    },
    "scrolled": false
   },
   "outputs": [
    {
     "name": "stdout",
     "output_type": "stream",
     "text": [
      "[[0.50004085]]  - Correct:  1\n",
      "[[0.98725849]]  - Correct:  0\n"
     ]
    },
    {
     "data": {
      "image/png": "[encoded data removed]",
      "text/plain": [
       "<Figure size 1080x360 with 1 Axes>"
      ]
     },
     "metadata": {},
     "output_type": "display_data"
    }
   ],
   "source": [
    "class NeuralNetwork:\n",
    "    \n",
    "    # intialize variables in class\n",
    "    def __init__(self, inputs2, outputs2):\n",
    "        self.inputs2  = inputs2\n",
    "        self.outputs2 = outputs2\n",
    "        # initialize weights as .50 for simplicity\n",
    "        self.weights = np.array([[.50], [.50], [.50]])\n",
    "        self.error_history = []\n",
    "        self.epoch_list = []\n",
    "\n",
    "    #activation function ==> S(x) = 1/1+e^(-x)\n",
    "    def sigmoid(self, x, deriv=False):\n",
    "        if deriv == True:\n",
    "            return x * (1 - x)\n",
    "        return 1 / (1 + np.exp(-x))\n",
    "\n",
    "    # data will flow through the neural network.\n",
    "    def feed_forward(self):\n",
    "        self.hidden = self.sigmoid(np.dot(self.inputs2, self.weights))\n",
    "\n",
    "    # going backwards through the network to update weights\n",
    "    def backpropagation(self):\n",
    "        self.error  = self.outputs2 - self.hidden\n",
    "        delta = self.error * self.sigmoid(self.hidden, deriv=True)\n",
    "        self.weights += np.dot(self.inputs2.T, delta)\n",
    "\n",
    "    # train the neural net for 1000 iterations\n",
    "    def train(self, epochs=25000):\n",
    "        for epoch in range(epochs):\n",
    "            # flow forward and produce an output\n",
    "            self.feed_forward()\n",
    "            # go back though the network to make corrections based on the output\n",
    "            self.backpropagation()    \n",
    "            # keep track of the error history over each epoch\n",
    "            self.error_history.append(np.average(np.abs(self.error)))\n",
    "            self.epoch_list.append(epoch)\n",
    "\n",
    "    # function to predict output on new and unseen input data                               \n",
    "    def predict(self, new_input):\n",
    "        prediction = self.sigmoid(np.dot(new_input, self.weights))\n",
    "        return prediction\n",
    "    \n",
    "    # create neural network   \n",
    "NN = NeuralNetwork(inputs2, outputs2)\n",
    "# train neural network\n",
    "NN.train()\n",
    "\n",
    "example = np.array([[1, 1, 0]])\n",
    "example_2 = np.array([[0, 1, 1]])\n",
    "\n",
    "# print the predictions for both examples                                   \n",
    "print(NN.predict(example), ' - Correct: ', example[0][0])\n",
    "print(NN.predict(example_2), ' - Correct: ', example_2[0][0])\n",
    "\n",
    "# plot the error over the entire training duration\n",
    "plt.figure(figsize=(15,5))\n",
    "plt.plot(NN.epoch_list, NN.error_history)\n",
    "plt.xlabel('Epoch')\n",
    "plt.ylabel('Error')\n",
    "plt.show()"
   ]
  }
 ],
 "metadata": {
  "kernelspec": {
   "display_name": "Python 3",
   "language": "python",
   "name": "python3"
  },
  "language_info": {
   "codemirror_mode": {
    "name": "ipython",
    "version": 3
   },
   "file_extension": ".py",
   "mimetype": "text/x-python",
   "name": "python",
   "nbconvert_exporter": "python",
   "pygments_lexer": "ipython3",
   "version": "3.7.6"
  }
 },
 "nbformat": 4,
 "nbformat_minor": 4
}
